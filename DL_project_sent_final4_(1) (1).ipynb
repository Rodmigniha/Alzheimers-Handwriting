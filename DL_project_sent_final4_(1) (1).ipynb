{
  "cells": [
    {
      "cell_type": "code",
      "execution_count": 2,
      "metadata": {
        "id": "BgTGkhkhLQpV"
      },
      "outputs": [],
      "source": [
        "#filename = \"data.csv\"\n",
        "#fileid = \"1MTekNDgiLMMutQde6pCzCPAd15vRxGJE\"\n",
        "#!wget -O $filename 'https://docs.google.com/uc?export=download&id='$fileid -q"
      ]
    },
    {
      "cell_type": "code",
      "execution_count": 4,
      "metadata": {
        "id": "8RRgliO3HBXY"
      },
      "outputs": [],
      "source": [
        "import pandas as pd\n",
        "import numpy as np\n",
        "import seaborn as sns\n",
        "import matplotlib.pyplot as plt\n",
        "\n",
        "import torch\n",
        "import torch.nn as nn\n",
        "import torch.nn.functional as F\n",
        "from torchvision import datasets, transforms\n",
        "from sklearn.model_selection import train_test_split\n",
        "from torch.utils.data import TensorDataset, DataLoader\n",
        "import torch.optim as optim\n",
        "\n",
        "\n",
        "torch.manual_seed(0)\n",
        "\n",
        "import io"
      ]
    },
    {
      "cell_type": "code",
      "execution_count": 5,
      "metadata": {
        "colab": {
          "base_uri": "https://localhost:8080/",
          "height": 444
        },
        "id": "Zdrr8uKhLpyr",
        "outputId": "c7ecb1dd-399d-43e0-998c-1af5fc1677d3"
      },
      "outputs": [
        {
          "data": {
            "text/html": [
              "<div>\n",
              "<style scoped>\n",
              "    .dataframe tbody tr th:only-of-type {\n",
              "        vertical-align: middle;\n",
              "    }\n",
              "\n",
              "    .dataframe tbody tr th {\n",
              "        vertical-align: top;\n",
              "    }\n",
              "\n",
              "    .dataframe thead th {\n",
              "        text-align: right;\n",
              "    }\n",
              "</style>\n",
              "<table border=\"1\" class=\"dataframe\">\n",
              "  <thead>\n",
              "    <tr style=\"text-align: right;\">\n",
              "      <th></th>\n",
              "      <th>air_time1</th>\n",
              "      <th>disp_index1</th>\n",
              "      <th>gmrt_in_air1</th>\n",
              "      <th>gmrt_on_paper1</th>\n",
              "      <th>max_x_extension1</th>\n",
              "      <th>max_y_extension1</th>\n",
              "      <th>mean_acc_in_air1</th>\n",
              "      <th>mean_acc_on_paper1</th>\n",
              "      <th>mean_gmrt1</th>\n",
              "      <th>mean_jerk_in_air1</th>\n",
              "      <th>...</th>\n",
              "      <th>mean_jerk_in_air25</th>\n",
              "      <th>mean_jerk_on_paper25</th>\n",
              "      <th>mean_speed_in_air25</th>\n",
              "      <th>mean_speed_on_paper25</th>\n",
              "      <th>num_of_pendown25</th>\n",
              "      <th>paper_time25</th>\n",
              "      <th>pressure_mean25</th>\n",
              "      <th>pressure_var25</th>\n",
              "      <th>total_time25</th>\n",
              "      <th>class</th>\n",
              "    </tr>\n",
              "  </thead>\n",
              "  <tbody>\n",
              "    <tr>\n",
              "      <th>0</th>\n",
              "      <td>4860</td>\n",
              "      <td>0.000013</td>\n",
              "      <td>236.876312</td>\n",
              "      <td>308.575985</td>\n",
              "      <td>3171</td>\n",
              "      <td>7348</td>\n",
              "      <td>0.277021</td>\n",
              "      <td>0.214148</td>\n",
              "      <td>272.726149</td>\n",
              "      <td>0.040834</td>\n",
              "      <td>...</td>\n",
              "      <td>0.043534</td>\n",
              "      <td>0.021311</td>\n",
              "      <td>3.926618</td>\n",
              "      <td>3.026629</td>\n",
              "      <td>102</td>\n",
              "      <td>64740</td>\n",
              "      <td>1253.154541</td>\n",
              "      <td>193816.27650</td>\n",
              "      <td>108925</td>\n",
              "      <td>1</td>\n",
              "    </tr>\n",
              "    <tr>\n",
              "      <th>1</th>\n",
              "      <td>2005</td>\n",
              "      <td>0.000010</td>\n",
              "      <td>174.435893</td>\n",
              "      <td>158.661271</td>\n",
              "      <td>1798</td>\n",
              "      <td>5962</td>\n",
              "      <td>0.209676</td>\n",
              "      <td>0.125318</td>\n",
              "      <td>166.548582</td>\n",
              "      <td>0.031859</td>\n",
              "      <td>...</td>\n",
              "      <td>0.137580</td>\n",
              "      <td>0.019412</td>\n",
              "      <td>4.593336</td>\n",
              "      <td>4.676877</td>\n",
              "      <td>79</td>\n",
              "      <td>38670</td>\n",
              "      <td>1357.563486</td>\n",
              "      <td>121864.44040</td>\n",
              "      <td>88000</td>\n",
              "      <td>1</td>\n",
              "    </tr>\n",
              "    <tr>\n",
              "      <th>2</th>\n",
              "      <td>12960</td>\n",
              "      <td>0.000019</td>\n",
              "      <td>154.094876</td>\n",
              "      <td>66.137920</td>\n",
              "      <td>1335</td>\n",
              "      <td>9809</td>\n",
              "      <td>0.303533</td>\n",
              "      <td>0.168974</td>\n",
              "      <td>110.116398</td>\n",
              "      <td>0.036623</td>\n",
              "      <td>...</td>\n",
              "      <td>0.207932</td>\n",
              "      <td>0.019402</td>\n",
              "      <td>5.171081</td>\n",
              "      <td>2.851422</td>\n",
              "      <td>81</td>\n",
              "      <td>33010</td>\n",
              "      <td>1583.533172</td>\n",
              "      <td>165641.91900</td>\n",
              "      <td>96545</td>\n",
              "      <td>1</td>\n",
              "    </tr>\n",
              "    <tr>\n",
              "      <th>3</th>\n",
              "      <td>7870</td>\n",
              "      <td>0.000012</td>\n",
              "      <td>102.981366</td>\n",
              "      <td>79.647541</td>\n",
              "      <td>1420</td>\n",
              "      <td>6142</td>\n",
              "      <td>0.320674</td>\n",
              "      <td>0.156004</td>\n",
              "      <td>91.314453</td>\n",
              "      <td>0.054545</td>\n",
              "      <td>...</td>\n",
              "      <td>0.080464</td>\n",
              "      <td>0.017964</td>\n",
              "      <td>3.053848</td>\n",
              "      <td>2.758524</td>\n",
              "      <td>74</td>\n",
              "      <td>41340</td>\n",
              "      <td>878.310595</td>\n",
              "      <td>202783.16910</td>\n",
              "      <td>122115</td>\n",
              "      <td>1</td>\n",
              "    </tr>\n",
              "    <tr>\n",
              "      <th>4</th>\n",
              "      <td>3590</td>\n",
              "      <td>0.000009</td>\n",
              "      <td>241.464110</td>\n",
              "      <td>143.991636</td>\n",
              "      <td>1557</td>\n",
              "      <td>6218</td>\n",
              "      <td>0.220933</td>\n",
              "      <td>0.163247</td>\n",
              "      <td>192.727873</td>\n",
              "      <td>0.034884</td>\n",
              "      <td>...</td>\n",
              "      <td>0.169032</td>\n",
              "      <td>0.025185</td>\n",
              "      <td>5.383940</td>\n",
              "      <td>3.779826</td>\n",
              "      <td>52</td>\n",
              "      <td>15930</td>\n",
              "      <td>1523.603892</td>\n",
              "      <td>231407.77220</td>\n",
              "      <td>29980</td>\n",
              "      <td>0</td>\n",
              "    </tr>\n",
              "    <tr>\n",
              "      <th>...</th>\n",
              "      <td>...</td>\n",
              "      <td>...</td>\n",
              "      <td>...</td>\n",
              "      <td>...</td>\n",
              "      <td>...</td>\n",
              "      <td>...</td>\n",
              "      <td>...</td>\n",
              "      <td>...</td>\n",
              "      <td>...</td>\n",
              "      <td>...</td>\n",
              "      <td>...</td>\n",
              "      <td>...</td>\n",
              "      <td>...</td>\n",
              "      <td>...</td>\n",
              "      <td>...</td>\n",
              "      <td>...</td>\n",
              "      <td>...</td>\n",
              "      <td>...</td>\n",
              "      <td>...</td>\n",
              "      <td>...</td>\n",
              "      <td>...</td>\n",
              "    </tr>\n",
              "    <tr>\n",
              "      <th>99</th>\n",
              "      <td>1270</td>\n",
              "      <td>0.000008</td>\n",
              "      <td>324.458938</td>\n",
              "      <td>180.769514</td>\n",
              "      <td>1382</td>\n",
              "      <td>6677</td>\n",
              "      <td>0.322650</td>\n",
              "      <td>0.159450</td>\n",
              "      <td>252.614226</td>\n",
              "      <td>0.042374</td>\n",
              "      <td>...</td>\n",
              "      <td>0.212218</td>\n",
              "      <td>0.021903</td>\n",
              "      <td>5.322031</td>\n",
              "      <td>3.239461</td>\n",
              "      <td>81</td>\n",
              "      <td>31500</td>\n",
              "      <td>1876.255079</td>\n",
              "      <td>154462.68020</td>\n",
              "      <td>49935</td>\n",
              "      <td>0</td>\n",
              "    </tr>\n",
              "    <tr>\n",
              "      <th>100</th>\n",
              "      <td>4115</td>\n",
              "      <td>0.000008</td>\n",
              "      <td>177.294869</td>\n",
              "      <td>103.118202</td>\n",
              "      <td>1257</td>\n",
              "      <td>4903</td>\n",
              "      <td>0.570892</td>\n",
              "      <td>0.160674</td>\n",
              "      <td>140.206535</td>\n",
              "      <td>0.100500</td>\n",
              "      <td>...</td>\n",
              "      <td>0.133040</td>\n",
              "      <td>0.017024</td>\n",
              "      <td>3.351319</td>\n",
              "      <td>2.769629</td>\n",
              "      <td>82</td>\n",
              "      <td>33765</td>\n",
              "      <td>626.638087</td>\n",
              "      <td>73347.34392</td>\n",
              "      <td>81715</td>\n",
              "      <td>1</td>\n",
              "    </tr>\n",
              "    <tr>\n",
              "      <th>101</th>\n",
              "      <td>2630</td>\n",
              "      <td>0.000013</td>\n",
              "      <td>276.714723</td>\n",
              "      <td>181.317565</td>\n",
              "      <td>1639</td>\n",
              "      <td>11729</td>\n",
              "      <td>0.218019</td>\n",
              "      <td>0.164965</td>\n",
              "      <td>229.016144</td>\n",
              "      <td>0.030151</td>\n",
              "      <td>...</td>\n",
              "      <td>0.126723</td>\n",
              "      <td>0.018062</td>\n",
              "      <td>4.296292</td>\n",
              "      <td>2.584401</td>\n",
              "      <td>84</td>\n",
              "      <td>46880</td>\n",
              "      <td>1007.974936</td>\n",
              "      <td>162033.71240</td>\n",
              "      <td>128215</td>\n",
              "      <td>1</td>\n",
              "    </tr>\n",
              "    <tr>\n",
              "      <th>102</th>\n",
              "      <td>4830</td>\n",
              "      <td>0.000012</td>\n",
              "      <td>205.765881</td>\n",
              "      <td>98.679157</td>\n",
              "      <td>1643</td>\n",
              "      <td>8121</td>\n",
              "      <td>0.267541</td>\n",
              "      <td>0.150560</td>\n",
              "      <td>152.222519</td>\n",
              "      <td>0.046280</td>\n",
              "      <td>...</td>\n",
              "      <td>0.040198</td>\n",
              "      <td>0.025202</td>\n",
              "      <td>1.323565</td>\n",
              "      <td>1.272008</td>\n",
              "      <td>32</td>\n",
              "      <td>139575</td>\n",
              "      <td>558.595486</td>\n",
              "      <td>218550.93970</td>\n",
              "      <td>213105</td>\n",
              "      <td>1</td>\n",
              "    </tr>\n",
              "    <tr>\n",
              "      <th>103</th>\n",
              "      <td>1760</td>\n",
              "      <td>0.000008</td>\n",
              "      <td>289.518195</td>\n",
              "      <td>196.411138</td>\n",
              "      <td>1674</td>\n",
              "      <td>6946</td>\n",
              "      <td>0.518937</td>\n",
              "      <td>0.202613</td>\n",
              "      <td>242.964666</td>\n",
              "      <td>0.090686</td>\n",
              "      <td>...</td>\n",
              "      <td>0.114472</td>\n",
              "      <td>0.017194</td>\n",
              "      <td>3.493815</td>\n",
              "      <td>2.510601</td>\n",
              "      <td>88</td>\n",
              "      <td>51675</td>\n",
              "      <td>1915.573488</td>\n",
              "      <td>128727.12410</td>\n",
              "      <td>83445</td>\n",
              "      <td>0</td>\n",
              "    </tr>\n",
              "  </tbody>\n",
              "</table>\n",
              "<p>104 rows × 451 columns</p>\n",
              "</div>"
            ],
            "text/plain": [
              "     air_time1  disp_index1  gmrt_in_air1  gmrt_on_paper1  max_x_extension1  \\\n",
              "0         4860     0.000013    236.876312      308.575985              3171   \n",
              "1         2005     0.000010    174.435893      158.661271              1798   \n",
              "2        12960     0.000019    154.094876       66.137920              1335   \n",
              "3         7870     0.000012    102.981366       79.647541              1420   \n",
              "4         3590     0.000009    241.464110      143.991636              1557   \n",
              "..         ...          ...           ...             ...               ...   \n",
              "99        1270     0.000008    324.458938      180.769514              1382   \n",
              "100       4115     0.000008    177.294869      103.118202              1257   \n",
              "101       2630     0.000013    276.714723      181.317565              1639   \n",
              "102       4830     0.000012    205.765881       98.679157              1643   \n",
              "103       1760     0.000008    289.518195      196.411138              1674   \n",
              "\n",
              "     max_y_extension1  mean_acc_in_air1  mean_acc_on_paper1  mean_gmrt1  \\\n",
              "0                7348          0.277021            0.214148  272.726149   \n",
              "1                5962          0.209676            0.125318  166.548582   \n",
              "2                9809          0.303533            0.168974  110.116398   \n",
              "3                6142          0.320674            0.156004   91.314453   \n",
              "4                6218          0.220933            0.163247  192.727873   \n",
              "..                ...               ...                 ...         ...   \n",
              "99               6677          0.322650            0.159450  252.614226   \n",
              "100              4903          0.570892            0.160674  140.206535   \n",
              "101             11729          0.218019            0.164965  229.016144   \n",
              "102              8121          0.267541            0.150560  152.222519   \n",
              "103              6946          0.518937            0.202613  242.964666   \n",
              "\n",
              "     mean_jerk_in_air1  ...  mean_jerk_in_air25  mean_jerk_on_paper25  \\\n",
              "0             0.040834  ...            0.043534              0.021311   \n",
              "1             0.031859  ...            0.137580              0.019412   \n",
              "2             0.036623  ...            0.207932              0.019402   \n",
              "3             0.054545  ...            0.080464              0.017964   \n",
              "4             0.034884  ...            0.169032              0.025185   \n",
              "..                 ...  ...                 ...                   ...   \n",
              "99            0.042374  ...            0.212218              0.021903   \n",
              "100           0.100500  ...            0.133040              0.017024   \n",
              "101           0.030151  ...            0.126723              0.018062   \n",
              "102           0.046280  ...            0.040198              0.025202   \n",
              "103           0.090686  ...            0.114472              0.017194   \n",
              "\n",
              "     mean_speed_in_air25  mean_speed_on_paper25  num_of_pendown25  \\\n",
              "0               3.926618               3.026629               102   \n",
              "1               4.593336               4.676877                79   \n",
              "2               5.171081               2.851422                81   \n",
              "3               3.053848               2.758524                74   \n",
              "4               5.383940               3.779826                52   \n",
              "..                   ...                    ...               ...   \n",
              "99              5.322031               3.239461                81   \n",
              "100             3.351319               2.769629                82   \n",
              "101             4.296292               2.584401                84   \n",
              "102             1.323565               1.272008                32   \n",
              "103             3.493815               2.510601                88   \n",
              "\n",
              "     paper_time25  pressure_mean25  pressure_var25  total_time25  class  \n",
              "0           64740      1253.154541    193816.27650        108925      1  \n",
              "1           38670      1357.563486    121864.44040         88000      1  \n",
              "2           33010      1583.533172    165641.91900         96545      1  \n",
              "3           41340       878.310595    202783.16910        122115      1  \n",
              "4           15930      1523.603892    231407.77220         29980      0  \n",
              "..            ...              ...             ...           ...    ...  \n",
              "99          31500      1876.255079    154462.68020         49935      0  \n",
              "100         33765       626.638087     73347.34392         81715      1  \n",
              "101         46880      1007.974936    162033.71240        128215      1  \n",
              "102        139575       558.595486    218550.93970        213105      1  \n",
              "103         51675      1915.573488    128727.12410         83445      0  \n",
              "\n",
              "[104 rows x 451 columns]"
            ]
          },
          "execution_count": 5,
          "metadata": {},
          "output_type": "execute_result"
        }
      ],
      "source": [
        "df = pd.read_csv(filepath_or_buffer=\"./data.csv\")\n",
        "df"
      ]
    },
    {
      "cell_type": "code",
      "execution_count": 6,
      "metadata": {
        "colab": {
          "base_uri": "https://localhost:8080/"
        },
        "id": "fa4eis07HVSS",
        "outputId": "4a60ff87-214f-4e3d-bc3d-8b030f4e66e5"
      },
      "outputs": [
        {
          "data": {
            "text/plain": [
              "(104, 451)"
            ]
          },
          "execution_count": 6,
          "metadata": {},
          "output_type": "execute_result"
        }
      ],
      "source": [
        "df.shape"
      ]
    },
    {
      "cell_type": "markdown",
      "metadata": {
        "id": "shp9u-qSIf3_"
      },
      "source": [
        "**Notre dataset est constitué de 104 enrégistrements et de 451 variables dont la variable cible \"class\"**"
      ]
    },
    {
      "cell_type": "markdown",
      "metadata": {
        "id": "D2kiXMugI3wO"
      },
      "source": [
        "##VARIABLES DU DATASET\n",
        "\n",
        "- **Chaque enrégistrement du dataset est constitué de 25 tâches**.\n",
        "- **Il nous suffit d'observer les 18 variables d'une tâche quelconque**"
      ]
    },
    {
      "cell_type": "code",
      "execution_count": 7,
      "metadata": {
        "colab": {
          "base_uri": "https://localhost:8080/",
          "height": 226
        },
        "id": "p8cYyBi7H9-h",
        "outputId": "d3a28e99-d104-47c9-d6e6-3bbb2a3b76c4"
      },
      "outputs": [
        {
          "data": {
            "text/html": [
              "<div>\n",
              "<style scoped>\n",
              "    .dataframe tbody tr th:only-of-type {\n",
              "        vertical-align: middle;\n",
              "    }\n",
              "\n",
              "    .dataframe tbody tr th {\n",
              "        vertical-align: top;\n",
              "    }\n",
              "\n",
              "    .dataframe thead th {\n",
              "        text-align: right;\n",
              "    }\n",
              "</style>\n",
              "<table border=\"1\" class=\"dataframe\">\n",
              "  <thead>\n",
              "    <tr style=\"text-align: right;\">\n",
              "      <th></th>\n",
              "      <th>air_time1</th>\n",
              "      <th>disp_index1</th>\n",
              "      <th>gmrt_in_air1</th>\n",
              "      <th>gmrt_on_paper1</th>\n",
              "      <th>max_x_extension1</th>\n",
              "      <th>max_y_extension1</th>\n",
              "      <th>mean_acc_in_air1</th>\n",
              "      <th>mean_acc_on_paper1</th>\n",
              "      <th>mean_gmrt1</th>\n",
              "      <th>mean_jerk_in_air1</th>\n",
              "      <th>mean_jerk_on_paper1</th>\n",
              "      <th>mean_speed_in_air1</th>\n",
              "      <th>mean_speed_on_paper1</th>\n",
              "      <th>num_of_pendown1</th>\n",
              "      <th>paper_time1</th>\n",
              "      <th>pressure_mean1</th>\n",
              "      <th>pressure_var1</th>\n",
              "      <th>total_time1</th>\n",
              "      <th>class</th>\n",
              "    </tr>\n",
              "  </thead>\n",
              "  <tbody>\n",
              "    <tr>\n",
              "      <th>0</th>\n",
              "      <td>4860</td>\n",
              "      <td>0.000013</td>\n",
              "      <td>236.876312</td>\n",
              "      <td>308.575985</td>\n",
              "      <td>3171</td>\n",
              "      <td>7348</td>\n",
              "      <td>0.277021</td>\n",
              "      <td>0.214148</td>\n",
              "      <td>272.726149</td>\n",
              "      <td>0.040834</td>\n",
              "      <td>0.023461</td>\n",
              "      <td>4.388767</td>\n",
              "      <td>5.770359</td>\n",
              "      <td>10</td>\n",
              "      <td>7440</td>\n",
              "      <td>1518.729839</td>\n",
              "      <td>157685.03720</td>\n",
              "      <td>12300</td>\n",
              "      <td>1</td>\n",
              "    </tr>\n",
              "    <tr>\n",
              "      <th>1</th>\n",
              "      <td>2005</td>\n",
              "      <td>0.000010</td>\n",
              "      <td>174.435893</td>\n",
              "      <td>158.661271</td>\n",
              "      <td>1798</td>\n",
              "      <td>5962</td>\n",
              "      <td>0.209676</td>\n",
              "      <td>0.125318</td>\n",
              "      <td>166.548582</td>\n",
              "      <td>0.031859</td>\n",
              "      <td>0.016338</td>\n",
              "      <td>2.109119</td>\n",
              "      <td>3.072810</td>\n",
              "      <td>11</td>\n",
              "      <td>4875</td>\n",
              "      <td>1784.383590</td>\n",
              "      <td>116210.42110</td>\n",
              "      <td>6880</td>\n",
              "      <td>1</td>\n",
              "    </tr>\n",
              "    <tr>\n",
              "      <th>2</th>\n",
              "      <td>12960</td>\n",
              "      <td>0.000019</td>\n",
              "      <td>154.094876</td>\n",
              "      <td>66.137920</td>\n",
              "      <td>1335</td>\n",
              "      <td>9809</td>\n",
              "      <td>0.303533</td>\n",
              "      <td>0.168974</td>\n",
              "      <td>110.116398</td>\n",
              "      <td>0.036623</td>\n",
              "      <td>0.017880</td>\n",
              "      <td>2.516527</td>\n",
              "      <td>1.127776</td>\n",
              "      <td>17</td>\n",
              "      <td>17060</td>\n",
              "      <td>1849.797773</td>\n",
              "      <td>172503.89990</td>\n",
              "      <td>30020</td>\n",
              "      <td>1</td>\n",
              "    </tr>\n",
              "    <tr>\n",
              "      <th>3</th>\n",
              "      <td>7870</td>\n",
              "      <td>0.000012</td>\n",
              "      <td>102.981366</td>\n",
              "      <td>79.647541</td>\n",
              "      <td>1420</td>\n",
              "      <td>6142</td>\n",
              "      <td>0.320674</td>\n",
              "      <td>0.156004</td>\n",
              "      <td>91.314453</td>\n",
              "      <td>0.054545</td>\n",
              "      <td>0.016952</td>\n",
              "      <td>1.728143</td>\n",
              "      <td>1.324384</td>\n",
              "      <td>8</td>\n",
              "      <td>9755</td>\n",
              "      <td>1671.095336</td>\n",
              "      <td>162309.13490</td>\n",
              "      <td>17625</td>\n",
              "      <td>1</td>\n",
              "    </tr>\n",
              "    <tr>\n",
              "      <th>4</th>\n",
              "      <td>3590</td>\n",
              "      <td>0.000009</td>\n",
              "      <td>241.464110</td>\n",
              "      <td>143.991636</td>\n",
              "      <td>1557</td>\n",
              "      <td>6218</td>\n",
              "      <td>0.220933</td>\n",
              "      <td>0.163247</td>\n",
              "      <td>192.727873</td>\n",
              "      <td>0.034884</td>\n",
              "      <td>0.018873</td>\n",
              "      <td>3.070248</td>\n",
              "      <td>3.050541</td>\n",
              "      <td>5</td>\n",
              "      <td>4785</td>\n",
              "      <td>1736.773250</td>\n",
              "      <td>95496.29655</td>\n",
              "      <td>8375</td>\n",
              "      <td>0</td>\n",
              "    </tr>\n",
              "  </tbody>\n",
              "</table>\n",
              "</div>"
            ],
            "text/plain": [
              "   air_time1  disp_index1  gmrt_in_air1  gmrt_on_paper1  max_x_extension1  \\\n",
              "0       4860     0.000013    236.876312      308.575985              3171   \n",
              "1       2005     0.000010    174.435893      158.661271              1798   \n",
              "2      12960     0.000019    154.094876       66.137920              1335   \n",
              "3       7870     0.000012    102.981366       79.647541              1420   \n",
              "4       3590     0.000009    241.464110      143.991636              1557   \n",
              "\n",
              "   max_y_extension1  mean_acc_in_air1  mean_acc_on_paper1  mean_gmrt1  \\\n",
              "0              7348          0.277021            0.214148  272.726149   \n",
              "1              5962          0.209676            0.125318  166.548582   \n",
              "2              9809          0.303533            0.168974  110.116398   \n",
              "3              6142          0.320674            0.156004   91.314453   \n",
              "4              6218          0.220933            0.163247  192.727873   \n",
              "\n",
              "   mean_jerk_in_air1  mean_jerk_on_paper1  mean_speed_in_air1  \\\n",
              "0           0.040834             0.023461            4.388767   \n",
              "1           0.031859             0.016338            2.109119   \n",
              "2           0.036623             0.017880            2.516527   \n",
              "3           0.054545             0.016952            1.728143   \n",
              "4           0.034884             0.018873            3.070248   \n",
              "\n",
              "   mean_speed_on_paper1  num_of_pendown1  paper_time1  pressure_mean1  \\\n",
              "0              5.770359               10         7440     1518.729839   \n",
              "1              3.072810               11         4875     1784.383590   \n",
              "2              1.127776               17        17060     1849.797773   \n",
              "3              1.324384                8         9755     1671.095336   \n",
              "4              3.050541                5         4785     1736.773250   \n",
              "\n",
              "   pressure_var1  total_time1  class  \n",
              "0   157685.03720        12300      1  \n",
              "1   116210.42110         6880      1  \n",
              "2   172503.89990        30020      1  \n",
              "3   162309.13490        17625      1  \n",
              "4    95496.29655         8375      0  "
            ]
          },
          "execution_count": 7,
          "metadata": {},
          "output_type": "execute_result"
        }
      ],
      "source": [
        "k = df.columns[18:-1]\n",
        "df_vue=df\n",
        "for col in k :\n",
        "  df_vue=df_vue.drop(columns=[col])\n",
        "df_vue.head(5)"
      ]
    },
    {
      "cell_type": "code",
      "execution_count": 8,
      "metadata": {
        "colab": {
          "base_uri": "https://localhost:8080/",
          "height": 320
        },
        "id": "edLumremIVWC",
        "outputId": "8703f2a7-a876-47ff-ded9-d8a016443514"
      },
      "outputs": [
        {
          "data": {
            "text/html": [
              "<div>\n",
              "<style scoped>\n",
              "    .dataframe tbody tr th:only-of-type {\n",
              "        vertical-align: middle;\n",
              "    }\n",
              "\n",
              "    .dataframe tbody tr th {\n",
              "        vertical-align: top;\n",
              "    }\n",
              "\n",
              "    .dataframe thead th {\n",
              "        text-align: right;\n",
              "    }\n",
              "</style>\n",
              "<table border=\"1\" class=\"dataframe\">\n",
              "  <thead>\n",
              "    <tr style=\"text-align: right;\">\n",
              "      <th></th>\n",
              "      <th>air_time1</th>\n",
              "      <th>disp_index1</th>\n",
              "      <th>gmrt_in_air1</th>\n",
              "      <th>gmrt_on_paper1</th>\n",
              "      <th>max_x_extension1</th>\n",
              "      <th>max_y_extension1</th>\n",
              "      <th>mean_acc_in_air1</th>\n",
              "      <th>mean_acc_on_paper1</th>\n",
              "      <th>mean_gmrt1</th>\n",
              "      <th>mean_jerk_in_air1</th>\n",
              "      <th>mean_jerk_on_paper1</th>\n",
              "      <th>mean_speed_in_air1</th>\n",
              "      <th>mean_speed_on_paper1</th>\n",
              "      <th>num_of_pendown1</th>\n",
              "      <th>paper_time1</th>\n",
              "      <th>pressure_mean1</th>\n",
              "      <th>pressure_var1</th>\n",
              "      <th>total_time1</th>\n",
              "      <th>class</th>\n",
              "    </tr>\n",
              "  </thead>\n",
              "  <tbody>\n",
              "    <tr>\n",
              "      <th>count</th>\n",
              "      <td>104.000000</td>\n",
              "      <td>104.000000</td>\n",
              "      <td>104.000000</td>\n",
              "      <td>104.000000</td>\n",
              "      <td>104.000000</td>\n",
              "      <td>104.0000</td>\n",
              "      <td>104.000000</td>\n",
              "      <td>104.000000</td>\n",
              "      <td>104.000000</td>\n",
              "      <td>104.000000</td>\n",
              "      <td>104.000000</td>\n",
              "      <td>104.000000</td>\n",
              "      <td>104.000000</td>\n",
              "      <td>104.000000</td>\n",
              "      <td>104.000000</td>\n",
              "      <td>104.000000</td>\n",
              "      <td>104.000000</td>\n",
              "      <td>104.000000</td>\n",
              "      <td>104.000000</td>\n",
              "    </tr>\n",
              "    <tr>\n",
              "      <th>mean</th>\n",
              "      <td>5626.096154</td>\n",
              "      <td>0.000010</td>\n",
              "      <td>303.041480</td>\n",
              "      <td>203.341347</td>\n",
              "      <td>1977.903846</td>\n",
              "      <td>7306.0000</td>\n",
              "      <td>0.423505</td>\n",
              "      <td>0.183638</td>\n",
              "      <td>253.191413</td>\n",
              "      <td>0.068408</td>\n",
              "      <td>0.020667</td>\n",
              "      <td>4.206778</td>\n",
              "      <td>3.848687</td>\n",
              "      <td>9.201923</td>\n",
              "      <td>6101.971154</td>\n",
              "      <td>1663.879232</td>\n",
              "      <td>127260.300623</td>\n",
              "      <td>11728.067308</td>\n",
              "      <td>0.625000</td>\n",
              "    </tr>\n",
              "    <tr>\n",
              "      <th>std</th>\n",
              "      <td>12288.918491</td>\n",
              "      <td>0.000004</td>\n",
              "      <td>198.980721</td>\n",
              "      <td>125.965315</td>\n",
              "      <td>1224.826752</td>\n",
              "      <td>2118.8762</td>\n",
              "      <td>0.384365</td>\n",
              "      <td>0.068035</td>\n",
              "      <td>144.196343</td>\n",
              "      <td>0.075455</td>\n",
              "      <td>0.004245</td>\n",
              "      <td>2.532337</td>\n",
              "      <td>2.497180</td>\n",
              "      <td>6.552817</td>\n",
              "      <td>4889.086937</td>\n",
              "      <td>297.392953</td>\n",
              "      <td>52474.754551</td>\n",
              "      <td>16560.486058</td>\n",
              "      <td>0.486467</td>\n",
              "    </tr>\n",
              "    <tr>\n",
              "      <th>min</th>\n",
              "      <td>65.000000</td>\n",
              "      <td>0.000002</td>\n",
              "      <td>37.102751</td>\n",
              "      <td>47.354990</td>\n",
              "      <td>754.000000</td>\n",
              "      <td>561.0000</td>\n",
              "      <td>0.127188</td>\n",
              "      <td>0.104892</td>\n",
              "      <td>62.040839</td>\n",
              "      <td>0.016190</td>\n",
              "      <td>0.014504</td>\n",
              "      <td>0.766629</td>\n",
              "      <td>0.822160</td>\n",
              "      <td>1.000000</td>\n",
              "      <td>865.000000</td>\n",
              "      <td>642.634761</td>\n",
              "      <td>25886.973640</td>\n",
              "      <td>2490.000000</td>\n",
              "      <td>0.000000</td>\n",
              "    </tr>\n",
              "    <tr>\n",
              "      <th>25%</th>\n",
              "      <td>1706.250000</td>\n",
              "      <td>0.000008</td>\n",
              "      <td>175.765379</td>\n",
              "      <td>121.400481</td>\n",
              "      <td>1373.500000</td>\n",
              "      <td>6058.5000</td>\n",
              "      <td>0.215126</td>\n",
              "      <td>0.148273</td>\n",
              "      <td>160.476470</td>\n",
              "      <td>0.029748</td>\n",
              "      <td>0.018259</td>\n",
              "      <td>2.722654</td>\n",
              "      <td>2.246989</td>\n",
              "      <td>5.000000</td>\n",
              "      <td>4070.000000</td>\n",
              "      <td>1519.872427</td>\n",
              "      <td>86473.083720</td>\n",
              "      <td>5835.000000</td>\n",
              "      <td>0.000000</td>\n",
              "    </tr>\n",
              "    <tr>\n",
              "      <th>50%</th>\n",
              "      <td>2965.000000</td>\n",
              "      <td>0.000010</td>\n",
              "      <td>255.791452</td>\n",
              "      <td>175.106066</td>\n",
              "      <td>1691.000000</td>\n",
              "      <td>7004.5000</td>\n",
              "      <td>0.290277</td>\n",
              "      <td>0.167574</td>\n",
              "      <td>224.536120</td>\n",
              "      <td>0.041257</td>\n",
              "      <td>0.019561</td>\n",
              "      <td>3.604072</td>\n",
              "      <td>3.252146</td>\n",
              "      <td>8.000000</td>\n",
              "      <td>4960.000000</td>\n",
              "      <td>1736.073783</td>\n",
              "      <td>128352.874850</td>\n",
              "      <td>8462.500000</td>\n",
              "      <td>1.000000</td>\n",
              "    </tr>\n",
              "    <tr>\n",
              "      <th>75%</th>\n",
              "      <td>5130.000000</td>\n",
              "      <td>0.000012</td>\n",
              "      <td>357.088639</td>\n",
              "      <td>241.294922</td>\n",
              "      <td>2188.750000</td>\n",
              "      <td>8320.7500</td>\n",
              "      <td>0.464893</td>\n",
              "      <td>0.196266</td>\n",
              "      <td>298.954539</td>\n",
              "      <td>0.072649</td>\n",
              "      <td>0.021575</td>\n",
              "      <td>4.749599</td>\n",
              "      <td>4.440994</td>\n",
              "      <td>11.250000</td>\n",
              "      <td>6756.250000</td>\n",
              "      <td>1880.926512</td>\n",
              "      <td>165756.056775</td>\n",
              "      <td>12100.000000</td>\n",
              "      <td>1.000000</td>\n",
              "    </tr>\n",
              "    <tr>\n",
              "      <th>max</th>\n",
              "      <td>109965.000000</td>\n",
              "      <td>0.000028</td>\n",
              "      <td>1168.328276</td>\n",
              "      <td>865.210522</td>\n",
              "      <td>11195.000000</td>\n",
              "      <td>13493.0000</td>\n",
              "      <td>2.772566</td>\n",
              "      <td>0.627350</td>\n",
              "      <td>836.784702</td>\n",
              "      <td>0.543199</td>\n",
              "      <td>0.042043</td>\n",
              "      <td>15.509808</td>\n",
              "      <td>18.187079</td>\n",
              "      <td>54.000000</td>\n",
              "      <td>46120.000000</td>\n",
              "      <td>1998.487730</td>\n",
              "      <td>288285.044900</td>\n",
              "      <td>156085.000000</td>\n",
              "      <td>1.000000</td>\n",
              "    </tr>\n",
              "  </tbody>\n",
              "</table>\n",
              "</div>"
            ],
            "text/plain": [
              "           air_time1  disp_index1  gmrt_in_air1  gmrt_on_paper1  \\\n",
              "count     104.000000   104.000000    104.000000      104.000000   \n",
              "mean     5626.096154     0.000010    303.041480      203.341347   \n",
              "std     12288.918491     0.000004    198.980721      125.965315   \n",
              "min        65.000000     0.000002     37.102751       47.354990   \n",
              "25%      1706.250000     0.000008    175.765379      121.400481   \n",
              "50%      2965.000000     0.000010    255.791452      175.106066   \n",
              "75%      5130.000000     0.000012    357.088639      241.294922   \n",
              "max    109965.000000     0.000028   1168.328276      865.210522   \n",
              "\n",
              "       max_x_extension1  max_y_extension1  mean_acc_in_air1  \\\n",
              "count        104.000000          104.0000        104.000000   \n",
              "mean        1977.903846         7306.0000          0.423505   \n",
              "std         1224.826752         2118.8762          0.384365   \n",
              "min          754.000000          561.0000          0.127188   \n",
              "25%         1373.500000         6058.5000          0.215126   \n",
              "50%         1691.000000         7004.5000          0.290277   \n",
              "75%         2188.750000         8320.7500          0.464893   \n",
              "max        11195.000000        13493.0000          2.772566   \n",
              "\n",
              "       mean_acc_on_paper1  mean_gmrt1  mean_jerk_in_air1  mean_jerk_on_paper1  \\\n",
              "count          104.000000  104.000000         104.000000           104.000000   \n",
              "mean             0.183638  253.191413           0.068408             0.020667   \n",
              "std              0.068035  144.196343           0.075455             0.004245   \n",
              "min              0.104892   62.040839           0.016190             0.014504   \n",
              "25%              0.148273  160.476470           0.029748             0.018259   \n",
              "50%              0.167574  224.536120           0.041257             0.019561   \n",
              "75%              0.196266  298.954539           0.072649             0.021575   \n",
              "max              0.627350  836.784702           0.543199             0.042043   \n",
              "\n",
              "       mean_speed_in_air1  mean_speed_on_paper1  num_of_pendown1  \\\n",
              "count          104.000000            104.000000       104.000000   \n",
              "mean             4.206778              3.848687         9.201923   \n",
              "std              2.532337              2.497180         6.552817   \n",
              "min              0.766629              0.822160         1.000000   \n",
              "25%              2.722654              2.246989         5.000000   \n",
              "50%              3.604072              3.252146         8.000000   \n",
              "75%              4.749599              4.440994        11.250000   \n",
              "max             15.509808             18.187079        54.000000   \n",
              "\n",
              "        paper_time1  pressure_mean1  pressure_var1    total_time1       class  \n",
              "count    104.000000      104.000000     104.000000     104.000000  104.000000  \n",
              "mean    6101.971154     1663.879232  127260.300623   11728.067308    0.625000  \n",
              "std     4889.086937      297.392953   52474.754551   16560.486058    0.486467  \n",
              "min      865.000000      642.634761   25886.973640    2490.000000    0.000000  \n",
              "25%     4070.000000     1519.872427   86473.083720    5835.000000    0.000000  \n",
              "50%     4960.000000     1736.073783  128352.874850    8462.500000    1.000000  \n",
              "75%     6756.250000     1880.926512  165756.056775   12100.000000    1.000000  \n",
              "max    46120.000000     1998.487730  288285.044900  156085.000000    1.000000  "
            ]
          },
          "execution_count": 8,
          "metadata": {},
          "output_type": "execute_result"
        }
      ],
      "source": [
        "df_vue.describe()"
      ]
    },
    {
      "cell_type": "markdown",
      "metadata": {
        "id": "iNLq2XueHcwh"
      },
      "source": [
        "##Variable cible (class)"
      ]
    },
    {
      "cell_type": "code",
      "execution_count": 9,
      "metadata": {
        "colab": {
          "base_uri": "https://localhost:8080/",
          "height": 484
        },
        "id": "RqHqx0mHHZSn",
        "outputId": "85f9d427-7b40-49f1-c855-1655c994cf80"
      },
      "outputs": [
        {
          "data": {
            "text/plain": [
              "Text(0, 0.5, 'Nomber')"
            ]
          },
          "execution_count": 9,
          "metadata": {},
          "output_type": "execute_result"
        },
        {
          "data": {
            "image/png": "[encoded data removed]",
            "text/plain": [
              "<Figure size 640x480 with 1 Axes>"
            ]
          },
          "metadata": {},
          "output_type": "display_data"
        }
      ],
      "source": [
        "sp=df[\"class\"].value_counts().plot(kind='bar',title = 'Target distribution')\n",
        "sp.set_xlabel('class')\n",
        "sp.set_ylabel('Nomber')\n",
        "\n",
        "#plt.savefig(\"class.pdf\")"
      ]
    },
    {
      "cell_type": "markdown",
      "metadata": {
        "id": "t4l93qiKKWuI"
      },
      "source": [
        "##PRINCIPALE CONCLUSIONS DES PREMIERS APPERCUS SUR LE DATASET\n",
        "**L'observation des statistiques montre :**\n",
        "\n",
        "  - **Toutes les variables sont quantitatives**\n",
        "  \n",
        "  - **un déséquilibre entre les chiffres des variables du dataset**.\n",
        "\n",
        "  - **un déséquilibrage sur la répartition de la variable cible. En effet 62% de participants sont malades alors que 32% environ sont sains**.\n",
        "  -**après première analyse on note une absence de variable sensible (variable pouvant poser des problèmes raciste, sexiste, d'équité etc...)**"
      ]
    },
    {
      "cell_type": "markdown",
      "metadata": {
        "id": "-zNWut-QdICk"
      },
      "source": [
        "##DIVISION DU DATASET EN DONNEES D'ENTRAINEMENT ET DE VALIDATION"
      ]
    },
    {
      "cell_type": "markdown",
      "metadata": {
        "id": "kR08E72TdM_j"
      },
      "source": [
        "## Normalisation des données\n",
        "\n",
        "Comme noté plus haut, on note un déséquilibre entre les valeurs des variables du dataset. Nous allons procéder à la normalisation des données pour éviter les biais sur les poids lors de l'entrainement du modèle."
      ]
    },
    {
      "cell_type": "markdown",
      "metadata": {
        "id": "hkJHEmIoTlOw"
      },
      "source": [
        "## EXEMPLE MODELISATION 2 : Réseau de neurones à deux couches"
      ]
    },
    {
      "cell_type": "markdown",
      "metadata": {
        "id": "RCHJIwIUTIjB"
      },
      "source": [
        "## PREPARATION A NOUVEAU LES DONNEES POUR L'ENTRAINEMENT DU MODEL"
      ]
    },
    {
      "cell_type": "markdown",
      "metadata": {
        "id": "QtBm5X7hObwq"
      },
      "source": [
        "## **REMARQUE** :\n",
        "  **Conformément à la description du dataset, les 450 colonnes des données d'entrainement sont constituées des caractéristiques d'écriture manuscrite extraites de 25 tâches (18 caractéristiques par tâche).**\n",
        "\n",
        "## **Hypothèse**\n",
        "**Les chiffres statistiques (Le minimum, le maximum, la moyenne, la variance etc...) des 18 informations sur chaque caractéristiques représentent des données suffisantes pour entrainer le modèle**\n",
        "\n",
        "**Dans cette partie nous allons déterminer le dataset des statistiques de chaque caractéristique pour chacune des ligne du dataset.**\n"
      ]
    },
    {
      "cell_type": "code",
      "execution_count": 11,
      "metadata": {
        "id": "E1gsT4bx_TfN"
      },
      "outputs": [],
      "source": [
        "# DATASET FORME DES STATISTIQUES\n",
        "def stat_data(df,cat='train'):\n",
        "\n",
        "  K_rasteritic=[[[0 for _ in range(0)] for _ in range(25)] for _ in range(18)]\n",
        "  df_2=df\n",
        "  df_min_max=df\n",
        "  for c in range(0,18,1):\n",
        "      column_indices= [c+18*num_tache for num_tache in range(0,25,1)] # liste des indices des colonnes ayant pour caracteristique c\n",
        "      K_rasteritic[c] = df.iloc[:, column_indices] # selection des 25 tache de la caracteristique c\n",
        "\n",
        "      #construction du dataset à partir des minimum et maximum pour chacune des 18 caracteristiques\n",
        "      df_2['minim_caract'+str(c)]=np.min(K_rasteritic[c], axis =1) #pour completer les colonnes minimum au dataset initial df\n",
        "      df_2['maxim_caract'+str(c)]=np.max(K_rasteritic[c], axis =1) # pour completer les colonnes maximums au dataset initial df\n",
        "      df_2['moyenne_caract'+str(c)]=np.mean(K_rasteritic[c], axis =1) # pour completer les colonnes moyenne au dataset initial df\n",
        "      df_2['variance_caract'+str(c)]=np.var(K_rasteritic[c], axis =1) # pour completer les colonnes variance au dataset initial df\n",
        "      df_2['mediane_caract'+str(c)]=np.median(K_rasteritic[c], axis =1) # pour completer les colonnes variance au dataset initial df\n",
        "\n",
        "      #formation du dataset des colonnes statistique\n",
        "  for c in range(0,18,1):\n",
        "    if cat=='test':\n",
        "      df_min_max = df_2.iloc[:, range(450,540,1)]\n",
        "    else:\n",
        "      df_min_max = df_2.iloc[:, range(450,541,1)]\n",
        "  return df_min_max"
      ]
    },
    {
      "cell_type": "code",
      "execution_count": 12,
      "metadata": {
        "colab": {
          "base_uri": "https://localhost:8080/"
        },
        "id": "WETxQ9LMQY5q",
        "outputId": "d411ff9e-ae62-407a-9e0c-9571bc15a7e5"
      },
      "outputs": [
        {
          "data": {
            "text/plain": [
              "(104, 91)"
            ]
          },
          "execution_count": 12,
          "metadata": {},
          "output_type": "execute_result"
        }
      ],
      "source": [
        "stat_data(df).shape"
      ]
    },
    {
      "cell_type": "markdown",
      "metadata": {
        "id": "UVf7P8JkQlSU"
      },
      "source": [
        "**Le nouveau dataset est constitué de 91 colonnes représentatives.**"
      ]
    },
    {
      "cell_type": "markdown",
      "metadata": {
        "id": "xRpy3OwFAipW"
      },
      "source": [
        "## Nous allons entrainer le modèle sur le nouveau dataset des chiffres statistiques des 18 caractéristiques."
      ]
    },
    {
      "cell_type": "code",
      "execution_count": 13,
      "metadata": {
        "id": "wbp-6D5FwC8v"
      },
      "outputs": [],
      "source": [
        "data =stat_data(df)\n",
        "X = data.drop('class', axis=1)  # Remplacez 'label' par le nom de votre colonne cible\n",
        "y = data['class']\n",
        "\n",
        "# Diviser les données\n",
        "X_train, X_test, y_train, y_test = train_test_split(X, y, test_size=0.2, random_state=42)\n"
      ]
    },
    {
      "cell_type": "code",
      "execution_count": 14,
      "metadata": {
        "id": "rb-dku0cwDAC"
      },
      "outputs": [],
      "source": [
        "# normalisation\n",
        "\n",
        "from sklearn.preprocessing import StandardScaler\n",
        "\n",
        "scaler = StandardScaler()\n",
        "X_train = scaler.fit_transform(X_train)\n",
        "X_test = scaler.transform(X_test)\n"
      ]
    },
    {
      "cell_type": "code",
      "execution_count": 16,
      "metadata": {
        "id": "xxk6csSfw8_y"
      },
      "outputs": [],
      "source": [
        "from tensorflow.keras.models import Sequential\n",
        "from tensorflow.keras.layers import Dense\n",
        "from tensorflow.keras.utils import to_categorical"
      ]
    },
    {
      "cell_type": "code",
      "execution_count": 17,
      "metadata": {
        "id": "v3WFAK7xxbBY"
      },
      "outputs": [],
      "source": [
        "import tensorflow as tf"
      ]
    },
    {
      "cell_type": "code",
      "execution_count": 18,
      "metadata": {
        "colab": {
          "base_uri": "https://localhost:8080/"
        },
        "id": "laW33G8QwsEk",
        "outputId": "ae94d1c7-6d05-4947-92d4-927eb8c5b09b"
      },
      "outputs": [
        {
          "name": "stderr",
          "output_type": "stream",
          "text": [
            "e:\\IAGENE\\conda-repertorie\\Lib\\site-packages\\keras\\src\\layers\\core\\dense.py:87: UserWarning: Do not pass an `input_shape`/`input_dim` argument to a layer. When using Sequential models, prefer using an `Input(shape)` object as the first layer in the model instead.\n",
            "  super().__init__(activity_regularizer=activity_regularizer, **kwargs)\n"
          ]
        }
      ],
      "source": [
        "model = Sequential([\n",
        "    Dense(90, activation='relu', input_shape=(X_train.shape[1],)),\n",
        "    Dense(36, activation='relu'),\n",
        "    Dense(1, activation='sigmoid')  # Pour un problème binaire\n",
        "])\n",
        "\n",
        "model.compile(optimizer='adam', loss='binary_crossentropy', metrics=['accuracy'])\n"
      ]
    },
    {
      "cell_type": "code",
      "execution_count": 19,
      "metadata": {
        "colab": {
          "base_uri": "https://localhost:8080/"
        },
        "id": "QHlGKX2LxT-c",
        "outputId": "f947ff7a-d4ed-43c9-b8de-97c063d0e351"
      },
      "outputs": [
        {
          "name": "stdout",
          "output_type": "stream",
          "text": [
            "Epoch 1/20\n",
            "\u001b[1m9/9\u001b[0m \u001b[32m━━━━━━━━━━━━━━━━━━━━\u001b[0m\u001b[37m\u001b[0m \u001b[1m2s\u001b[0m 44ms/step - accuracy: 0.4626 - loss: 0.7466 - val_accuracy: 1.0000 - val_loss: 0.3664\n",
            "Epoch 2/20\n",
            "\u001b[1m9/9\u001b[0m \u001b[32m━━━━━━━━━━━━━━━━━━━━\u001b[0m\u001b[37m\u001b[0m \u001b[1m0s\u001b[0m 16ms/step - accuracy: 0.7858 - loss: 0.4613 - val_accuracy: 1.0000 - val_loss: 0.2453\n",
            "Epoch 3/20\n",
            "\u001b[1m9/9\u001b[0m \u001b[32m━━━━━━━━━━━━━━━━━━━━\u001b[0m\u001b[37m\u001b[0m \u001b[1m0s\u001b[0m 17ms/step - accuracy: 0.8712 - loss: 0.3447 - val_accuracy: 1.0000 - val_loss: 0.2043\n",
            "Epoch 4/20\n",
            "\u001b[1m9/9\u001b[0m \u001b[32m━━━━━━━━━━━━━━━━━━━━\u001b[0m\u001b[37m\u001b[0m \u001b[1m0s\u001b[0m 18ms/step - accuracy: 0.9409 - loss: 0.2810 - val_accuracy: 1.0000 - val_loss: 0.1802\n",
            "Epoch 5/20\n",
            "\u001b[1m9/9\u001b[0m \u001b[32m━━━━━━━━━━━━━━━━━━━━\u001b[0m\u001b[37m\u001b[0m \u001b[1m0s\u001b[0m 18ms/step - accuracy: 0.9366 - loss: 0.2345 - val_accuracy: 1.0000 - val_loss: 0.1660\n",
            "Epoch 6/20\n",
            "\u001b[1m9/9\u001b[0m \u001b[32m━━━━━━━━━━━━━━━━━━━━\u001b[0m\u001b[37m\u001b[0m \u001b[1m0s\u001b[0m 18ms/step - accuracy: 0.9340 - loss: 0.1963 - val_accuracy: 1.0000 - val_loss: 0.1495\n",
            "Epoch 7/20\n",
            "\u001b[1m9/9\u001b[0m \u001b[32m━━━━━━━━━━━━━━━━━━━━\u001b[0m\u001b[37m\u001b[0m \u001b[1m0s\u001b[0m 19ms/step - accuracy: 0.9848 - loss: 0.1286 - val_accuracy: 1.0000 - val_loss: 0.1423\n",
            "Epoch 8/20\n",
            "\u001b[1m9/9\u001b[0m \u001b[32m━━━━━━━━━━━━━━━━━━━━\u001b[0m\u001b[37m\u001b[0m \u001b[1m0s\u001b[0m 31ms/step - accuracy: 1.0000 - loss: 0.1063 - val_accuracy: 0.8889 - val_loss: 0.1532\n",
            "Epoch 9/20\n",
            "\u001b[1m9/9\u001b[0m \u001b[32m━━━━━━━━━━━━━━━━━━━━\u001b[0m\u001b[37m\u001b[0m \u001b[1m0s\u001b[0m 18ms/step - accuracy: 1.0000 - loss: 0.0934 - val_accuracy: 0.8889 - val_loss: 0.1577\n",
            "Epoch 10/20\n",
            "\u001b[1m9/9\u001b[0m \u001b[32m━━━━━━━━━━━━━━━━━━━━\u001b[0m\u001b[37m\u001b[0m \u001b[1m0s\u001b[0m 17ms/step - accuracy: 1.0000 - loss: 0.0851 - val_accuracy: 0.8889 - val_loss: 0.1544\n",
            "Epoch 11/20\n",
            "\u001b[1m9/9\u001b[0m \u001b[32m━━━━━━━━━━━━━━━━━━━━\u001b[0m\u001b[37m\u001b[0m \u001b[1m0s\u001b[0m 19ms/step - accuracy: 1.0000 - loss: 0.0706 - val_accuracy: 0.8889 - val_loss: 0.1540\n",
            "Epoch 12/20\n",
            "\u001b[1m9/9\u001b[0m \u001b[32m━━━━━━━━━━━━━━━━━━━━\u001b[0m\u001b[37m\u001b[0m \u001b[1m0s\u001b[0m 17ms/step - accuracy: 1.0000 - loss: 0.0570 - val_accuracy: 0.8889 - val_loss: 0.1470\n",
            "Epoch 13/20\n",
            "\u001b[1m9/9\u001b[0m \u001b[32m━━━━━━━━━━━━━━━━━━━━\u001b[0m\u001b[37m\u001b[0m \u001b[1m0s\u001b[0m 23ms/step - accuracy: 1.0000 - loss: 0.0375 - val_accuracy: 0.8889 - val_loss: 0.1520\n",
            "Epoch 14/20\n",
            "\u001b[1m9/9\u001b[0m \u001b[32m━━━━━━━━━━━━━━━━━━━━\u001b[0m\u001b[37m\u001b[0m \u001b[1m0s\u001b[0m 23ms/step - accuracy: 1.0000 - loss: 0.0484 - val_accuracy: 0.8889 - val_loss: 0.1609\n",
            "Epoch 15/20\n",
            "\u001b[1m9/9\u001b[0m \u001b[32m━━━━━━━━━━━━━━━━━━━━\u001b[0m\u001b[37m\u001b[0m \u001b[1m0s\u001b[0m 18ms/step - accuracy: 1.0000 - loss: 0.0323 - val_accuracy: 0.8889 - val_loss: 0.1634\n",
            "Epoch 16/20\n",
            "\u001b[1m9/9\u001b[0m \u001b[32m━━━━━━━━━━━━━━━━━━━━\u001b[0m\u001b[37m\u001b[0m \u001b[1m0s\u001b[0m 25ms/step - accuracy: 1.0000 - loss: 0.0251 - val_accuracy: 0.8889 - val_loss: 0.1666\n",
            "Epoch 17/20\n",
            "\u001b[1m9/9\u001b[0m \u001b[32m━━━━━━━━━━━━━━━━━━━━\u001b[0m\u001b[37m\u001b[0m \u001b[1m0s\u001b[0m 19ms/step - accuracy: 1.0000 - loss: 0.0257 - val_accuracy: 0.8889 - val_loss: 0.1663\n",
            "Epoch 18/20\n",
            "\u001b[1m9/9\u001b[0m \u001b[32m━━━━━━━━━━━━━━━━━━━━\u001b[0m\u001b[37m\u001b[0m \u001b[1m0s\u001b[0m 19ms/step - accuracy: 1.0000 - loss: 0.0227 - val_accuracy: 0.8889 - val_loss: 0.1661\n",
            "Epoch 19/20\n",
            "\u001b[1m9/9\u001b[0m \u001b[32m━━━━━━━━━━━━━━━━━━━━\u001b[0m\u001b[37m\u001b[0m \u001b[1m0s\u001b[0m 19ms/step - accuracy: 1.0000 - loss: 0.0164 - val_accuracy: 0.8889 - val_loss: 0.1698\n",
            "Epoch 20/20\n",
            "\u001b[1m9/9\u001b[0m \u001b[32m━━━━━━━━━━━━━━━━━━━━\u001b[0m\u001b[37m\u001b[0m \u001b[1m0s\u001b[0m 17ms/step - accuracy: 1.0000 - loss: 0.0138 - val_accuracy: 0.8889 - val_loss: 0.1763\n"
          ]
        }
      ],
      "source": [
        "#entrainement\n",
        "history = model.fit(X_train, y_train, epochs=20, batch_size=9, validation_split=0.1)\n"
      ]
    },
    {
      "cell_type": "code",
      "execution_count": 22,
      "metadata": {
        "colab": {
          "base_uri": "https://localhost:8080/",
          "height": 487
        },
        "id": "ynwAGVVnwDDP",
        "outputId": "272e8cf9-1cf8-4f2d-c296-1510e30202a4"
      },
      "outputs": [
        {
          "data": {
            "image/png": "[encoded data removed]",
            "text/plain": [
              "<Figure size 1200x500 with 2 Axes>"
            ]
          },
          "metadata": {},
          "output_type": "display_data"
        }
      ],
      "source": [
        "#courbe d'apprentisage\n",
        "\n",
        "# Récupération de la précision et de l'AUC\n",
        "accuracy = history.history['accuracy']\n",
        "val_accuracy = history.history['val_accuracy']\n",
        "loss = history.history['loss']\n",
        "val_loss = history.history['val_loss']\n",
        "\n",
        "plt.figure(figsize=(12, 5))\n",
        "\n",
        "# Précision\n",
        "plt.subplot(1, 2, 1)\n",
        "plt.plot(accuracy, label='Précision Entraînement')\n",
        "plt.plot(val_accuracy, label='Précision Validation')\n",
        "plt.title('Courbe de Précision')\n",
        "plt.xlabel('Epochs')\n",
        "plt.ylabel('Précision')\n",
        "plt.legend()\n",
        "\n",
        "# Perte\n",
        "plt.subplot(1, 2, 2)\n",
        "plt.plot(loss, label='Perte Entraînement')\n",
        "plt.plot(val_loss, label='Perte Validation')\n",
        "plt.title('Courbe de Perte')\n",
        "plt.xlabel('Epochs')\n",
        "plt.ylabel('Perte')\n",
        "plt.legend()\n",
        "\n",
        "plt.show()\n"
      ]
    },
    {
      "cell_type": "code",
      "execution_count": 23,
      "metadata": {
        "colab": {
          "base_uri": "https://localhost:8080/",
          "height": 611
        },
        "id": "lRvvGZhGx-l9",
        "outputId": "9fc248b8-ca26-4688-9621-148c9e90302f"
      },
      "outputs": [
        {
          "name": "stdout",
          "output_type": "stream",
          "text": [
            "\u001b[1m1/1\u001b[0m \u001b[32m━━━━━━━━━━━━━━━━━━━━\u001b[0m\u001b[37m\u001b[0m \u001b[1m0s\u001b[0m 146ms/step\n",
            "Matrice de confusion :\n",
            "[[ 5  2]\n",
            " [ 2 12]]\n",
            "Accuracy : 0.8095\n",
            "\u001b[1m1/1\u001b[0m \u001b[32m━━━━━━━━━━━━━━━━━━━━\u001b[0m\u001b[37m\u001b[0m \u001b[1m0s\u001b[0m 52ms/step\n",
            "AUC ROC : 0.9388\n",
            "\u001b[1m1/1\u001b[0m \u001b[32m━━━━━━━━━━━━━━━━━━━━\u001b[0m\u001b[37m\u001b[0m \u001b[1m0s\u001b[0m 69ms/step\n"
          ]
        },
        {
          "data": {
            "image/png": "[encoded data removed]",
            "text/plain": [
              "<Figure size 640x480 with 1 Axes>"
            ]
          },
          "metadata": {},
          "output_type": "display_data"
        }
      ],
      "source": [
        "from sklearn.metrics import confusion_matrix, accuracy_score, roc_auc_score, RocCurveDisplay\n",
        "\n",
        "# Prédictions\n",
        "y_pred = (model.predict(X_test) > 0.5).astype(int)\n",
        "\n",
        "# Matrice de confusion\n",
        "cm = confusion_matrix(y_test, y_pred)\n",
        "print(\"Matrice de confusion :\")\n",
        "print(cm)\n",
        "\n",
        "# Précision\n",
        "accuracy = accuracy_score(y_test, y_pred)\n",
        "print(f'Accuracy : {accuracy:.4f}')\n",
        "\n",
        "# AUC ROC\n",
        "auc_roc = roc_auc_score(y_test, model.predict(X_test))\n",
        "print(f'AUC ROC : {auc_roc:.4f}')\n",
        "\n",
        "# Affichage de la courbe ROC\n",
        "RocCurveDisplay.from_predictions(y_test, model.predict(X_test))\n",
        "plt.title('Courbe ROC')\n",
        "plt.show()\n"
      ]
    },
    {
      "cell_type": "code",
      "execution_count": 24,
      "metadata": {
        "colab": {
          "base_uri": "https://localhost:8080/",
          "height": 611
        },
        "id": "E5Irp5phx_CG",
        "outputId": "579c590d-af5d-4f51-c701-b1c6b5432130"
      },
      "outputs": [
        {
          "name": "stdout",
          "output_type": "stream",
          "text": [
            "\u001b[1m1/1\u001b[0m \u001b[32m━━━━━━━━━━━━━━━━━━━━\u001b[0m\u001b[37m\u001b[0m \u001b[1m0s\u001b[0m 71ms/step\n",
            "Matrice de confusion :\n",
            "[[ 5  2]\n",
            " [ 2 12]]\n",
            "Accuracy : 0.8095\n",
            "\u001b[1m1/1\u001b[0m \u001b[32m━━━━━━━━━━━━━━━━━━━━\u001b[0m\u001b[37m\u001b[0m \u001b[1m0s\u001b[0m 71ms/step\n",
            "AUC ROC : 0.9388\n",
            "\u001b[1m1/1\u001b[0m \u001b[32m━━━━━━━━━━━━━━━━━━━━\u001b[0m\u001b[37m\u001b[0m \u001b[1m0s\u001b[0m 67ms/step\n"
          ]
        },
        {
          "data": {
            "image/png": "[encoded data removed]",
            "text/plain": [
              "<Figure size 640x480 with 1 Axes>"
            ]
          },
          "metadata": {},
          "output_type": "display_data"
        }
      ],
      "source": [
        "#Evaluation du model\n",
        "\n",
        "# Prédictions\n",
        "y_pred = (model.predict(X_test) > 0.5).astype(int)\n",
        "\n",
        "# Matrice de confusion\n",
        "cm = confusion_matrix(y_test, y_pred)\n",
        "print(\"Matrice de confusion :\")\n",
        "print(cm)\n",
        "\n",
        "# Précision\n",
        "accuracy = accuracy_score(y_test, y_pred)\n",
        "print(f'Accuracy : {accuracy:.4f}')\n",
        "\n",
        "# AUC ROC\n",
        "auc_roc = roc_auc_score(y_test, model.predict(X_test))\n",
        "print(f'AUC ROC : {auc_roc:.4f}')\n",
        "\n",
        "# Affichage de la courbe ROC\n",
        "RocCurveDisplay.from_predictions(y_test, model.predict(X_test))\n",
        "plt.title('Courbe ROC')\n",
        "plt.show()\n"
      ]
    },
    {
      "cell_type": "code",
      "execution_count": null,
      "metadata": {
        "id": "S-JGXJOBy6t6"
      },
      "outputs": [],
      "source": []
    },
    {
      "cell_type": "markdown",
      "metadata": {
        "id": "i_uwZMVkerAa"
      },
      "source": [
        "# Submission"
      ]
    },
    {
      "cell_type": "markdown",
      "metadata": {
        "id": "XU4NA0VsetX7"
      },
      "source": [
        "## Downloading the test data"
      ]
    },
    {
      "cell_type": "code",
      "execution_count": 108,
      "metadata": {
        "id": "yLpqBwXBeoWk"
      },
      "outputs": [],
      "source": [
        "#filename = \"test.csv\"\n",
        "#fileid = \"1vZBMnmv2pvAHUi7IR1cSYjxLW0yt2eeU\"\n",
        "#!wget -O $filename 'https://docs.google.com/uc?export=download&id='$fileid -q"
      ]
    },
    {
      "cell_type": "code",
      "execution_count": 25,
      "metadata": {
        "id": "n5PHKyOlezmL"
      },
      "outputs": [],
      "source": [
        "df_test = pd.read_csv(\"./test.csv\", sep=\";\")\n",
        "\n"
      ]
    },
    {
      "cell_type": "code",
      "execution_count": 26,
      "metadata": {
        "colab": {
          "base_uri": "https://localhost:8080/"
        },
        "id": "bQardMXHUYXS",
        "outputId": "8e7c81c6-eac2-40b4-a91f-06bc72078553"
      },
      "outputs": [
        {
          "name": "stdout",
          "output_type": "stream",
          "text": [
            "\u001b[1m3/3\u001b[0m \u001b[32m━━━━━━━━━━━━━━━━━━━━\u001b[0m\u001b[37m\u001b[0m \u001b[1m0s\u001b[0m 23ms/step\n"
          ]
        }
      ],
      "source": [
        "new_data =stat_data(df_test,cat='test')\n",
        "X_new = scaler.transform(new_data)  # Normaliser\n",
        "\n",
        "# Prédictions\n",
        "y_new_pred_prob = model.predict(X_new)\n",
        "y_new_pred = (y_new_pred_prob > 0.5).astype(int)\n",
        "\n",
        "probabilitie=[]\n",
        "# Affichage des probabilités de prédiction\n",
        "for i in range(len(new_data)):\n",
        "    probabilitie.append(y_new_pred_prob[i][0])\n",
        "    #print(f'Donnée {i+1} : Prédiction : {y_new_pred[i][0]}, Probabilité : {y_new_pred_prob[i][0]:.4f}')\n"
      ]
    },
    {
      "cell_type": "code",
      "execution_count": 27,
      "metadata": {
        "id": "O36Y-5vIOBQX"
      },
      "outputs": [],
      "source": [
        "df_submission = pd.DataFrame({\"ID\": range(len(probabilitie)), \"TARGET\": probabilitie})\n",
        "df_submission.to_csv(\"./submission.csv\", index=False)"
      ]
    },
    {
      "cell_type": "code",
      "execution_count": 28,
      "metadata": {
        "colab": {
          "base_uri": "https://localhost:8080/",
          "height": 424
        },
        "id": "-ZX3h3ZjCKSa",
        "outputId": "80e6866a-15c8-418a-f7fc-32f92bc81265"
      },
      "outputs": [
        {
          "data": {
            "text/html": [
              "<div>\n",
              "<style scoped>\n",
              "    .dataframe tbody tr th:only-of-type {\n",
              "        vertical-align: middle;\n",
              "    }\n",
              "\n",
              "    .dataframe tbody tr th {\n",
              "        vertical-align: top;\n",
              "    }\n",
              "\n",
              "    .dataframe thead th {\n",
              "        text-align: right;\n",
              "    }\n",
              "</style>\n",
              "<table border=\"1\" class=\"dataframe\">\n",
              "  <thead>\n",
              "    <tr style=\"text-align: right;\">\n",
              "      <th></th>\n",
              "      <th>ID</th>\n",
              "      <th>TARGET</th>\n",
              "    </tr>\n",
              "  </thead>\n",
              "  <tbody>\n",
              "    <tr>\n",
              "      <th>0</th>\n",
              "      <td>0</td>\n",
              "      <td>0.999980</td>\n",
              "    </tr>\n",
              "    <tr>\n",
              "      <th>1</th>\n",
              "      <td>1</td>\n",
              "      <td>0.998210</td>\n",
              "    </tr>\n",
              "    <tr>\n",
              "      <th>2</th>\n",
              "      <td>2</td>\n",
              "      <td>0.997405</td>\n",
              "    </tr>\n",
              "    <tr>\n",
              "      <th>3</th>\n",
              "      <td>3</td>\n",
              "      <td>0.996850</td>\n",
              "    </tr>\n",
              "    <tr>\n",
              "      <th>4</th>\n",
              "      <td>4</td>\n",
              "      <td>0.534758</td>\n",
              "    </tr>\n",
              "    <tr>\n",
              "      <th>...</th>\n",
              "      <td>...</td>\n",
              "      <td>...</td>\n",
              "    </tr>\n",
              "    <tr>\n",
              "      <th>65</th>\n",
              "      <td>65</td>\n",
              "      <td>0.997995</td>\n",
              "    </tr>\n",
              "    <tr>\n",
              "      <th>66</th>\n",
              "      <td>66</td>\n",
              "      <td>0.001649</td>\n",
              "    </tr>\n",
              "    <tr>\n",
              "      <th>67</th>\n",
              "      <td>67</td>\n",
              "      <td>0.002820</td>\n",
              "    </tr>\n",
              "    <tr>\n",
              "      <th>68</th>\n",
              "      <td>68</td>\n",
              "      <td>0.002337</td>\n",
              "    </tr>\n",
              "    <tr>\n",
              "      <th>69</th>\n",
              "      <td>69</td>\n",
              "      <td>0.002037</td>\n",
              "    </tr>\n",
              "  </tbody>\n",
              "</table>\n",
              "<p>70 rows × 2 columns</p>\n",
              "</div>"
            ],
            "text/plain": [
              "    ID    TARGET\n",
              "0    0  0.999980\n",
              "1    1  0.998210\n",
              "2    2  0.997405\n",
              "3    3  0.996850\n",
              "4    4  0.534758\n",
              "..  ..       ...\n",
              "65  65  0.997995\n",
              "66  66  0.001649\n",
              "67  67  0.002820\n",
              "68  68  0.002337\n",
              "69  69  0.002037\n",
              "\n",
              "[70 rows x 2 columns]"
            ]
          },
          "execution_count": 28,
          "metadata": {},
          "output_type": "execute_result"
        }
      ],
      "source": [
        "df_submission"
      ]
    },
    {
      "cell_type": "markdown",
      "metadata": {
        "id": "1SIKBe89RH06"
      },
      "source": [
        "## MERCI A VOUS !"
      ]
    },
    {
      "cell_type": "code",
      "execution_count": null,
      "metadata": {
        "id": "0pjBeGagRGlg"
      },
      "outputs": [],
      "source": []
    }
  ],
  "metadata": {
    "accelerator": "GPU",
    "colab": {
      "gpuType": "T4",
      "provenance": []
    },
    "kernelspec": {
      "display_name": "Python 3",
      "name": "python3"
    },
    "language_info": {
      "codemirror_mode": {
        "name": "ipython",
        "version": 3
      },
      "file_extension": ".py",
      "mimetype": "text/x-python",
      "name": "python",
      "nbconvert_exporter": "python",
      "pygments_lexer": "ipython3",
      "version": "3.11.11"
    }
  },
  "nbformat": 4,
  "nbformat_minor": 0
}
